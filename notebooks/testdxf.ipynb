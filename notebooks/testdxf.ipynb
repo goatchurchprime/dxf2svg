{
 "cells": [
  {
   "cell_type": "code",
   "execution_count": 72,
   "metadata": {},
   "outputs": [
    {
     "name": "stdout",
     "output_type": "stream",
     "text": [
      "['*Model_Space', '*Paper_Space', 'Detail']\n",
      "[('INSERT', 'Detail'), ('INSERT', 'Detail'), ('INSERT', 'Detail')]\n"
     ]
    }
   ],
   "source": [
    "# mostly testing the valentina dxf format\n",
    "import dxfgrabber\n",
    "fname = \"../examples/valentina_sock.dxf\"\n",
    "d = dxfgrabber.readfile(fname)\n",
    "print([b.name  for b in d.blocks])\n",
    "print([(e.dxftype, e.name)  for e in d.entities])"
   ]
  },
  {
   "cell_type": "code",
   "execution_count": 69,
   "metadata": {},
   "outputs": [
    {
     "data": {
      "text/plain": [
       "{'_blocks': {'*Model_Space': <dxfgrabber.dxfentities.Block at 0x7f4dac2022b0>,\n",
       "  '*Paper_Space': <dxfgrabber.dxfentities.Block at 0x7f4dac242940>,\n",
       "  'Detail': <dxfgrabber.dxfentities.Block at 0x7f4dac202a90>}}"
      ]
     },
     "execution_count": 69,
     "metadata": {},
     "output_type": "execute_result"
    }
   ],
   "source": [
    "d.blocks.__dict__"
   ]
  },
  {
   "cell_type": "code",
   "execution_count": 64,
   "metadata": {},
   "outputs": [
    {
     "data": {
      "text/plain": [
       "{'_entities': [<dxfgrabber.dxfentities.LWPolyline at 0x7f4dac202630>,\n",
       "  <dxfgrabber.dxfentities.LWPolyline at 0x7f4dac202e10>,\n",
       "  <dxfgrabber.dxfentities.Line at 0x7f4dac202390>,\n",
       "  <dxfgrabber.dxfentities.Line at 0x7f4dac2024e0>,\n",
       "  <dxfgrabber.dxfentities.Line at 0x7f4dac202208>,\n",
       "  <dxfgrabber.dxfentities.Line at 0x7f4dac202898>,\n",
       "  <dxfgrabber.dxfentities.Line at 0x7f4dac202240>,\n",
       "  <dxfgrabber.dxfentities.Line at 0x7f4dac1e1240>,\n",
       "  <dxfgrabber.dxfentities.Line at 0x7f4dac1e1400>,\n",
       "  <dxfgrabber.dxfentities.Line at 0x7f4dac1e1d30>],\n",
       " 'basepoint': (0.0, 0.0),\n",
       " 'color': 256,\n",
       " 'description': '',\n",
       " 'dxftype': 'BLOCK',\n",
       " 'extrusion': None,\n",
       " 'flags': 0,\n",
       " 'handle': '41',\n",
       " 'invisible': 0,\n",
       " 'layer': '1',\n",
       " 'layout_tab_name': None,\n",
       " 'line_weight': 0,\n",
       " 'linetype': None,\n",
       " 'ltscale': 1.0,\n",
       " 'name': 'Detail',\n",
       " 'owner': '40',\n",
       " 'paperspace': None,\n",
       " 'shadow_mode': None,\n",
       " 'thickness': 0.0,\n",
       " 'transparency': None,\n",
       " 'true_color': None,\n",
       " 'xrefpath': ''}"
      ]
     },
     "execution_count": 64,
     "metadata": {},
     "output_type": "execute_result"
    }
   ],
   "source": [
    "list(d.blocks)[2].__dict__"
   ]
  },
  {
   "cell_type": "code",
   "execution_count": 61,
   "metadata": {},
   "outputs": [
    {
     "name": "stdout",
     "output_type": "stream",
     "text": [
      "['*Model_Space']\n",
      "['*Paper_Space']\n",
      "['Detail']\n"
     ]
    }
   ],
   "source": [
    "for b in list(d.blocks): #.__dict__\n",
    "    print([b.name])"
   ]
  },
  {
   "cell_type": "code",
   "execution_count": 47,
   "metadata": {},
   "outputs": [
    {
     "data": {
      "text/plain": [
       "<dxfgrabber.blockssection.BlocksSection at 0x7f4dac164c88>"
      ]
     },
     "execution_count": 47,
     "metadata": {},
     "output_type": "execute_result"
    }
   ],
   "source": [
    "import dxfgrabber\n",
    "fname = \"../examples/Problem splines.dxf\"\n",
    "#fname = \"test1.dxf\"\n",
    "#fname = \"/home/julian/data/aviansails/resailcuttinginstructions/2Rio15 Top surface front Mk9.dxf\"\n",
    "#fname = \"/home/julian/data/aviansails/junk/EVO3 140 Full lower surface Mk17.dxf\"\n",
    "fname = \"/home/julian/data/aviansails/podshapes/Pod-classic_1.dxf\"\n",
    "fname = \"../examples/valentina_sock.dxf\"\n",
    "d = dxfgrabber.readfile(fname)\n",
    "\n",
    "#es = [e  for e in list(d.blocks)[2]._entities  if e.dxftype == \"LWPOLYLINE\"]\n",
    "#es\n",
    "#e = es[0]\n",
    "#e.is_closed\n",
    "d.blocks"
   ]
  },
  {
   "cell_type": "code",
   "execution_count": 4,
   "metadata": {
    "collapsed": true
   },
   "outputs": [],
   "source": [
    "svgcols = ['lightblue', 'palegreen', 'mediumorchid', 'aquamarine', 'lightgoldenrodyellow', 'saddlebrown', 'brown', 'honeydew', 'mintcream', 'royalblue', 'steelblue', 'grey', 'darkgoldenrod', 'lavender', 'turquoise', 'cadetblue', 'lightslategray', 'maroon','palegoldenrod']\n",
    "layercol = dict(zip(d.layers.names(), svgcols))\n",
    "layercol.update({\"PLOT-LINES\":\"green\", \"PLOTLINES\":\"green\", \"CUT-LINE\":\"blue\"})\n"
   ]
  },
  {
   "cell_type": "code",
   "execution_count": 279,
   "metadata": {},
   "outputs": [
    {
     "name": "stdout",
     "output_type": "stream",
     "text": [
      "layers ['0', '1', '11', '4', '7', '8']\n"
     ]
    }
   ],
   "source": [
    "makesvg()\n",
    "print(\"layers\", d.layers.names())"
   ]
  },
  {
   "cell_type": "code",
   "execution_count": 255,
   "metadata": {},
   "outputs": [
    {
     "data": {
      "text/plain": [
       "['*Model_Space',\n",
       " '*Paper_Space',\n",
       " 'Full side',\n",
       " 'StrapDetail',\n",
       " 'footplate_detail']"
      ]
     },
     "execution_count": 255,
     "metadata": {},
     "output_type": "execute_result"
    }
   ],
   "source": [
    "[e.name  for e in list(d.blocks)]\n"
   ]
  },
  {
   "cell_type": "code",
   "execution_count": 30,
   "metadata": {
    "collapsed": true
   },
   "outputs": [],
   "source": [
    "#dxf.header, dxf.layers, dxf.blocks, dxf.entities\n",
    "e = list(d.blocks[\"footplate_detail\"])[0]\n",
    "#e.__dict__\n"
   ]
  },
  {
   "cell_type": "code",
   "execution_count": 37,
   "metadata": {},
   "outputs": [
    {
     "data": {
      "text/plain": [
       "{'attribs': [],\n",
       " 'attribsfollow': False,\n",
       " 'col_count': 1,\n",
       " 'col_spacing': 0.0,\n",
       " 'color': 256,\n",
       " 'dxftype': 'INSERT',\n",
       " 'extrusion': (0.0, 0.0, 1.0),\n",
       " 'handle': '4C',\n",
       " 'insert': (0.0, 0.0, 0.0),\n",
       " 'invisible': 0,\n",
       " 'layer': '1',\n",
       " 'layout_tab_name': None,\n",
       " 'line_weight': -1,\n",
       " 'linetype': 'BYLAYER',\n",
       " 'ltscale': 1.0,\n",
       " 'name': 'Full side',\n",
       " 'owner': None,\n",
       " 'paperspace': None,\n",
       " 'rotation': 0.0,\n",
       " 'row_count': 1,\n",
       " 'row_spacing': 0.0,\n",
       " 'scale': (1.0, 1.0, 1.0),\n",
       " 'shadow_mode': None,\n",
       " 'thickness': 0.0,\n",
       " 'transparency': None,\n",
       " 'true_color': None}"
      ]
     },
     "execution_count": 37,
     "metadata": {},
     "output_type": "execute_result"
    }
   ],
   "source": [
    "e = list(d.entities)[0]\n",
    "e.__dict__\n"
   ]
  },
  {
   "cell_type": "code",
   "execution_count": 5,
   "metadata": {
    "collapsed": true
   },
   "outputs": [],
   "source": [
    "ymm = 0\n",
    "def preamble(d, f):\n",
    "    minX = d.header['$EXTMIN'][0]\n",
    "    minY = d.header['$EXTMIN'][1]\n",
    "    maxX = d.header['$EXTMAX'][0]\n",
    "    maxY = d.header['$EXTMAX'][1]\n",
    "    SVG_PREAMBLE = '<svg xmlns=\"http://www.w3.org/2000/svg\" version=\"1.1\" viewBox=\"{0} {1} {2} {3}\">\\n'\n",
    "    f(SVG_PREAMBLE.format(minX, -maxY, maxX - minX, maxY - minY))\n"
   ]
  },
  {
   "cell_type": "code",
   "execution_count": 11,
   "metadata": {
    "collapsed": true
   },
   "outputs": [],
   "source": [
    "import nurbs.Curve, nurbs.utilities\n",
    "def splinepathtostring(e):\n",
    "    curve = nurbs.Curve.Curve()\n",
    "    curve.ctrlpts = [p[:2]  for p in e.control_points]\n",
    "    curve.degree = e.degree\n",
    "    curve.knotvector = e.knots\n",
    "    curve.weights = e.weights\n",
    "    curve.evaluate_rational()\n",
    "    return \"\".join(\"%s%f %f\" % (\"M\" if i==0 else \"L\", p[0], ymm-p[1])  for i, p in enumerate(curve.curvepts))\n",
    "\n",
    "def Dsplinepathtostring(e):\n",
    "    curve = nurbs.Curve.Curve()\n",
    "    curve.ctrlpts = [p[:2]  for p in e.control_points]\n",
    "    curve.degree = e.degree\n",
    "    curve.knotvector = nurbs.utilities.knotvector_autogen(curve.degree, len(curve.ctrlpts))\n",
    "    curve.weights = e.weights\n",
    "    curve.evaluate_rational()\n",
    "    return \"\".join(\"%s%f %f\" % (\"M\" if i==0 else \"L\", p[0], ymm-p[1])  for i, p in enumerate(curve.curvepts))\n"
   ]
  },
  {
   "cell_type": "code",
   "execution_count": 7,
   "metadata": {
    "collapsed": true
   },
   "outputs": [],
   "source": [
    "import math\n",
    "def arcpathstring(e):\n",
    "    x1 = e.center[0] + e.radius * math.cos(math.radians(e.start_angle))\n",
    "    y1 = e.center[1] + e.radius * math.sin(math.radians(e.start_angle))\n",
    "    x2 = e.center[0] + e.radius * math.cos(math.radians(e.end_angle))\n",
    "    y2 = e.center[1] + e.radius * math.sin(math.radians(e.end_angle))\n",
    "    angdiff = e.end_angle - e.start_angle\n",
    "    while angdiff >= 360: angdiff -= 360\n",
    "    while angdiff < 0:  angdiff += 360\n",
    "    return 'M {0} {1} A {2} {3} {4} {5} {6} {7} {8} '.format(x1, ymm-y1, \n",
    "            e.radius, e.radius, 0, int(angdiff > 180), 0, x2, ymm-y2)\n"
   ]
  },
  {
   "cell_type": "code",
   "execution_count": 8,
   "metadata": {
    "collapsed": true
   },
   "outputs": [],
   "source": [
    "#https://www.autodesk.com/techpubs/autocad/acad2000/dxf/entities_section.htm\n",
    "SVG_LINE = '<line x1=\"{0}\" y1=\"{1}\" x2=\"{2}\" y2=\"{3}\" stroke=\"{4}\" stroke-width=\"{5:.2f}\" />\\n'\n",
    "SVG_PATH = '<path d=\"{0}\" fill=\"none\" stroke=\"{1}\" stroke-width=\"{2:.2f}\" />\\n'\n",
    "SVG_CIRCLE = '<circle cx=\"{0}\" cy=\"{1}\" r=\"{2}\" stroke=\"{3}\" stroke-width=\"{4}\" fill=\"none\" />\\n'\n",
    "def outent(d, e, f, th):\n",
    "    if e.dxftype == \"LINE\":      \n",
    "        f(SVG_LINE.format(e.start[0], ymm-e.start[1], e.end[0], ymm-e.end[1], \n",
    "                          layercol.get(e.layer, 'black'), th))\n",
    "    elif e.dxftype == \"ARC\":\n",
    "        f(SVG_PATH.format(arcpathstring(e), layercol.get(e.layer, 'black'), th))\n",
    "    elif e.dxftype == \"LWPOLYLINE\":\n",
    "        print(e.flags, len(e.points))\n",
    "        e.points.append(e.points[-1])\n",
    "        print(len(e.points))\n",
    "        if (e.flags & 1) and e.points[-1] != e.points[0]:\n",
    "            e.points.append(e.points[0])\n",
    "            print(\"closing LWPOLYLINE\")\n",
    "        pth = \"\".join(\"%s%f %f\" % (\"M\" if i==0 else \"L\", p[0], ymm-p[1])  for i, p in enumerate(e.points))\n",
    "        f(SVG_PATH.format(pth, layercol.get(e.layer, 'black'), th))\n",
    "    elif e.dxftype == \"POLYLINE\":  # this can do 2D meshes\n",
    "        pth = \"\".join(\"%s%f %f\" % (\"M\" if i==0 else \"L\", p[0], ymm-p[1])  for i, p in enumerate(e.points))\n",
    "        f(SVG_PATH.format(pth, layercol.get(e.layer, 'black'), th))\n",
    "    elif e.dxftype == \"SPLINE\":\n",
    "        f(SVG_PATH.format(Dsplinepathtostring(e), \"red\", th))\n",
    "        f(SVG_PATH.format(splinepathtostring(e), layercol.get(e.layer, 'black'), th))\n",
    "    elif e.dxftype == \"CIRCLE\":\n",
    "        f(SVG_CIRCLE.format(e.center[0], ymm-e.center[1], e.radius, layercol.get(e.layer, 'black'), 5+th))\n",
    "    else:\n",
    "        print([e.dxftype])\n",
    "    \n",
    "        "
   ]
  },
  {
   "cell_type": "code",
   "execution_count": 12,
   "metadata": {},
   "outputs": [
    {
     "name": "stdout",
     "output_type": "stream",
     "text": [
      "['POINT']\n",
      "['POINT']\n",
      "['POINT']\n",
      "['POINT']\n",
      "['POINT']\n",
      "['POINT']\n",
      "['POINT']\n",
      "['POINT']\n",
      "['POINT']\n",
      "['POINT']\n"
     ]
    }
   ],
   "source": [
    "SVG_G = '<g transform=\"translate({0} {1})\" stroke=\"{2}\">\\n'\n",
    "def makesvgentitiesrecurse(entities, f):\n",
    "    for i, e in enumerate(entities):\n",
    "        if e.dxftype == \"INSERT\":\n",
    "            f(SVG_G.format(e.insert[0], e.insert[1], layercol.get(e.layer, 'black')))\n",
    "            assert e.scale[0] == 1 and e.scale[1] == 1\n",
    "            makesvgentitiesrecurse(list(d.blocks[e.name]), f)\n",
    "            f(\"</g>\\n\")\n",
    "        else:\n",
    "            outent(d, e, f, (3 if i != 8 else 13))\n",
    "    \n",
    "def makesvg():\n",
    "    fout = open(\"test1.svg\", \"w\")\n",
    "    preamble(d, fout.write)\n",
    "    makesvgentitiesrecurse(d.entities, fout.write)\n",
    "    fout.write(\"</svg>\\n\")\n",
    "    fout.close()\n",
    "makesvg()"
   ]
  },
  {
   "cell_type": "code",
   "execution_count": 232,
   "metadata": {},
   "outputs": [
    {
     "data": {
      "text/plain": [
       "[<matplotlib.lines.Line2D at 0x7f824e5d6898>]"
      ]
     },
     "execution_count": 232,
     "metadata": {},
     "output_type": "execute_result"
    },
    {
     "data": {
      "image/png": "[encoded data removed]",
      "text/plain": [
       "<matplotlib.figure.Figure at 0x7f824e577c88>"
      ]
     },
     "metadata": {},
     "output_type": "display_data"
    }
   ],
   "source": [
    "import matplotlib.pyplot as plt\n",
    "%matplotlib inline\n",
    "        \n",
    "e = es[0]\n",
    "\n",
    "curve = nurbs.Curve.Curve()\n",
    "curve.ctrlpts = [p[:2]  for p in e.control_points]\n",
    "curve.degree = e.degree\n",
    "\n",
    "curve.knotvector = nurbs.utilities.knotvector_autogen(curve.degree, len(curve.ctrlpts))\n",
    "curve.evaluate_rational()\n",
    "plt.plot([p[0] for p in curve.curvepts], [p[1] for p in curve.curvepts])\n",
    "\n",
    "curve.knotvector = e.knots\n",
    "curve.weights = e.weights\n",
    "curve.evaluate_rational()\n",
    "plt.plot([p[0] for p in curve.curvepts], [p[1] for p in curve.curvepts])\n"
   ]
  },
  {
   "cell_type": "code",
   "execution_count": 229,
   "metadata": {},
   "outputs": [
    {
     "data": {
      "text/plain": [
       "{'color': 256,\n",
       " 'control_points': [(0.0, 0.0, 0.0),\n",
       "  (490.717092713168, 158.8075309082932, 0.0),\n",
       "  (2164.905820751131, 388.1223313710202, 0.0),\n",
       "  (3837.689038507039, 353.4902462273104, 0.0),\n",
       "  (4994.861260930288, 329.5329955163307, 0.0)],\n",
       " 'degree': 3,\n",
       " 'dxftype': 'SPLINE',\n",
       " 'end_tangent': None,\n",
       " 'extrusion': (0.0, 0.0, 1.0),\n",
       " 'fit_points': [(0.0, 0.0, 0.0),\n",
       "  (1522.67200320285, 275.0960618560202, 0.0),\n",
       "  (4994.861260930288, 329.5329955163307, 0.0)],\n",
       " 'flags': 1064,\n",
       " 'handle': '3D',\n",
       " 'invisible': 0,\n",
       " 'knots': [0.0,\n",
       "  0.0,\n",
       "  0.0,\n",
       "  0.0,\n",
       "  1547.322808138777,\n",
       "  5019.938770381674,\n",
       "  5019.938770381674,\n",
       "  5019.938770381674,\n",
       "  5019.938770381674],\n",
       " 'layer': 'PLOTLINES',\n",
       " 'layout_tab_name': None,\n",
       " 'line_weight': 0,\n",
       " 'linetype': None,\n",
       " 'ltscale': 1.0,\n",
       " 'normal_vector': (0.0, 0.0, 1.0),\n",
       " 'owner': '157',\n",
       " 'paperspace': None,\n",
       " 'shadow_mode': None,\n",
       " 'start_tangent': (0.9514183274466854, 0.3079012279913022, 0.0),\n",
       " 'thickness': 0.0,\n",
       " 'tol_control_point': 1e-10,\n",
       " 'tol_fit_point': 0.0,\n",
       " 'tol_knot': 1e-09,\n",
       " 'transparency': None,\n",
       " 'true_color': None,\n",
       " 'weights': [1.0, 1.0, 1.0, 1.0, 1.0]}"
      ]
     },
     "execution_count": 229,
     "metadata": {},
     "output_type": "execute_result"
    }
   ],
   "source": [
    "e.__dict__"
   ]
  },
  {
   "cell_type": "code",
   "execution_count": 207,
   "metadata": {},
   "outputs": [
    {
     "name": "stdout",
     "output_type": "stream",
     "text": [
      "Help on module nurbs.Curve in nurbs:\n",
      "\n",
      "NAME\n",
      "    nurbs.Curve\n",
      "\n",
      "DESCRIPTION\n",
      "    .. module:: Curve\n",
      "        :platform: Unix, Windows\n",
      "        :synopsis: A data storage and evaluation class for B-spline and NURBS curves\n",
      "    \n",
      "    .. moduleauthor:: Onur Rauf Bingol\n",
      "\n",
      "CLASSES\n",
      "    builtins.object\n",
      "        Curve\n",
      "    \n",
      "    class Curve(builtins.object)\n",
      "     |  A data storage and evaluation class for B-Spline and NURBS curves.\n",
      "     |  \n",
      "     |  **Data Storage**\n",
      "     |  \n",
      "     |  :class:`.Curve` class implements Python properties using the ``@property`` decorator. The following properties are present in this class:\n",
      "     |  \n",
      "     |  * degree\n",
      "     |  * knotvector\n",
      "     |  * delta\n",
      "     |  * ctrlpts\n",
      "     |  * ctrlptsw\n",
      "     |  * weights\n",
      "     |  * curvepts\n",
      "     |  \n",
      "     |  The functions :func:`.read_ctrlpts()` and :func:`.read_ctrlptsw()` provide an easy way to read control points from a text file.\n",
      "     |  Additional details for the text format can be found in `FORMATS.md <https://github.com/orbingol/NURBS-Python/blob/master/FORMATS.md>`_ file.\n",
      "     |  \n",
      "     |  **Evaluation**\n",
      "     |  \n",
      "     |  The evaluation methods in the :class:`.Curve` class are:\n",
      "     |  \n",
      "     |  * :func:`.evaluate()`\n",
      "     |  * :func:`.evaluate_rational()`\n",
      "     |  * :func:`.derivatives()`\n",
      "     |  * :func:`.tangent()`\n",
      "     |  \n",
      "     |  **Examples**\n",
      "     |  \n",
      "     |  Please see the examples in the repository named as ``ex_curveXX.py``, where ``XX`` is the example number, for details on using the :class:`.Curve` class\n",
      "     |  \n",
      "     |  .. note::\n",
      "     |  \n",
      "     |      If you update any of the data storage elements after the curve evaluation, the surface points stored in :py:attr:`~curvepts` property will be deleted automatically.\n",
      "     |  \n",
      "     |  Methods defined here:\n",
      "     |  \n",
      "     |  __init__(self)\n",
      "     |      Initialize self.  See help(type(self)) for accurate signature.\n",
      "     |  \n",
      "     |  derivatives(self, u=-1, order=0)\n",
      "     |      Evaluates n-th order curve derivatives at the given u using Algorithm A3.4.\n",
      "     |      \n",
      "     |      :param u: knot value\n",
      "     |      :type u: float\n",
      "     |      :param order: derivative order\n",
      "     |      :type order: integer\n",
      "     |      :return: A list containing up to {order}-th derivative of the curve\n",
      "     |      :rtype: list\n",
      "     |  \n",
      "     |  derivatives2(self, u=-1, order=0)\n",
      "     |      Evaluates n-th order curve derivatives at the given u using Algorithm A3.2\n",
      "     |      \n",
      "     |      :param u: knot value\n",
      "     |      :type u: float\n",
      "     |      :param order: derivative order\n",
      "     |      :type order: integer\n",
      "     |      :return: A list containing up to {order}-th derivative of the curve\n",
      "     |      :rtype: list\n",
      "     |  \n",
      "     |  derivatives_ctrlpts(self, order=0, r1=0, r2=0)\n",
      "     |      Computes the control points of all derivative curves up to and including the {degree}-th derivative.\n",
      "     |      \n",
      "     |      Output is PK[k][i], i-th control point of the k-th derivative curve where 0 <= k <= degree and r1 <= i <= r2-k\n",
      "     |      \n",
      "     |      :param order: derivative order\n",
      "     |      :type order: integer\n",
      "     |      :param r1: minimum span\n",
      "     |      :type r1: integer\n",
      "     |      :param r2: maximum span\n",
      "     |      :type r2: integer\n",
      "     |      :return: PK, a 2D list of control points\n",
      "     |      :rtype: list\n",
      "     |  \n",
      "     |  evaluate(self)\n",
      "     |      Evaluates the B-Spline curve.\n",
      "     |      \n",
      "     |      .. note:: The evaluated surface points are stored in :py:attr:`~curvepts`.\n",
      "     |      \n",
      "     |      :return: None\n",
      "     |  \n",
      "     |  evaluate_rational(self)\n",
      "     |      Evaluates the NURBS curve.\n",
      "     |      \n",
      "     |      .. note:: The evaluated surface points are stored in :py:attr:`~curvepts`.\n",
      "     |      \n",
      "     |      :return: None\n",
      "     |  \n",
      "     |  read_ctrlpts(self, filename='')\n",
      "     |      Reads control points from a text file and generates a weight vector composed of 1.0s.\n",
      "     |      \n",
      "     |      .. note:: The format of the text files is described in `FORMATS.md <https://github.com/orbingol/NURBS-Python/blob/master/FORMATS.md>`_ file.\n",
      "     |      \n",
      "     |      :param filename: input file name\n",
      "     |      :type filename: string\n",
      "     |      :return: None\n",
      "     |  \n",
      "     |  read_ctrlptsw(self, filename='')\n",
      "     |      Reads weighted control points from a text file.\n",
      "     |      \n",
      "     |      .. note:: The format of the text files is described in `FORMATS.md <https://github.com/orbingol/NURBS-Python/blob/master/FORMATS.md>`_ file.\n",
      "     |      \n",
      "     |      :param filename: input file name\n",
      "     |      :type filename: string\n",
      "     |      :return: None\n",
      "     |  \n",
      "     |  tangent(self, u=-1)\n",
      "     |      Evaluates the surface tangent at the given (u, v) parameter.\n",
      "     |      \n",
      "     |      :param u: knot value\n",
      "     |      :type u: float\n",
      "     |      :return: A list in the order of \"surface point\" and \"derivative\"\n",
      "     |      :rtype: list\n",
      "     |  \n",
      "     |  ----------------------------------------------------------------------\n",
      "     |  Data descriptors defined here:\n",
      "     |  \n",
      "     |  __dict__\n",
      "     |      dictionary for instance variables (if defined)\n",
      "     |  \n",
      "     |  __weakref__\n",
      "     |      list of weak references to the object (if defined)\n",
      "     |  \n",
      "     |  ctrlpts\n",
      "     |      Control points\n",
      "     |      \n",
      "     |      Control points of a :class:`.Curve` is stored as a list of (x, y) coordinates\n",
      "     |      \n",
      "     |      :getter: Gets the control points\n",
      "     |      :setter: Sets the control points\n",
      "     |      :type: list\n",
      "     |  \n",
      "     |  ctrlptsw\n",
      "     |      Weighted control points\n",
      "     |      \n",
      "     |      Returns and accepts a tuple containing (x*w, y*w, w) values. The setter method automatically separates\n",
      "     |      the weights vector and compute the unweighted control points.\n",
      "     |      \n",
      "     |      :getter: Gets the weighted control points\n",
      "     |      :setter: Sets the weights vector and the control points\n",
      "     |      :type: list\n",
      "     |  \n",
      "     |  curvepts\n",
      "     |      Evaluated curve points\n",
      "     |      \n",
      "     |      .. note:: :func:`.evaluate` or :func:`.evaluate_rational` should be called first.\n",
      "     |      \n",
      "     |      :getter: (x, y) coordinates of the evaluated surface points\n",
      "     |      :type: list\n",
      "     |  \n",
      "     |  degree\n",
      "     |      Curve degree\n",
      "     |      \n",
      "     |      :getter: Gets the curve degree\n",
      "     |      :setter: Sets the curve degree\n",
      "     |      :type: integer\n",
      "     |  \n",
      "     |  delta\n",
      "     |      Curve evaluation delta\n",
      "     |      \n",
      "     |      .. note:: The delta value is 0.01 by default.\n",
      "     |      \n",
      "     |      :getter: Gets the delta value\n",
      "     |      :setter: Sets the delta value\n",
      "     |      :type: float\n",
      "     |  \n",
      "     |  knotvector\n",
      "     |      Knot vector\n",
      "     |      \n",
      "     |      :getter: Gets the knot vector\n",
      "     |      :setter: Sets the knot vector\n",
      "     |      :type: list\n",
      "     |  \n",
      "     |  weights\n",
      "     |      Weights vector\n",
      "     |      \n",
      "     |      .. note:: :py:attr:`~ctrlpts` property and :func:`.read_ctrlpts()` will automatically generate a weights vector of 1.0s in the size of control points array.\n",
      "     |      \n",
      "     |      :getter: Gets the weights vector\n",
      "     |      :setter: Sets the weights vector\n",
      "     |      :type: list\n",
      "\n",
      "FILE\n",
      "    /home/julian/anaconda3/lib/python3.6/site-packages/nurbs/Curve.py\n",
      "\n",
      "\n"
     ]
    }
   ],
   "source": [
    "import nurbs.Curve, nurbs.utilities\n",
    "help(nurbs.Curve)"
   ]
  },
  {
   "cell_type": "code",
   "execution_count": 14,
   "metadata": {},
   "outputs": [
    {
     "data": {
      "text/plain": [
       "[]"
      ]
     },
     "execution_count": 14,
     "metadata": {},
     "output_type": "execute_result"
    }
   ],
   "source": [
    "es = [e  for e in d.entities  if e.dxftype == \"LWPOLYLINE\"]\n",
    "es"
   ]
  },
  {
   "cell_type": "code",
   "execution_count": null,
   "metadata": {
    "collapsed": true
   },
   "outputs": [],
   "source": []
  }
 ],
 "metadata": {
  "kernelspec": {
   "display_name": "Python 3",
   "language": "python",
   "name": "python3"
  },
  "language_info": {
   "codemirror_mode": {
    "name": "ipython",
    "version": 3
   },
   "file_extension": ".py",
   "mimetype": "text/x-python",
   "name": "python",
   "nbconvert_exporter": "python",
   "pygments_lexer": "ipython3",
   "version": "3.6.1"
  }
 },
 "nbformat": 4,
 "nbformat_minor": 2
}
